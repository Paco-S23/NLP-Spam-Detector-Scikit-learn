{
 "cells": [
  {
   "cell_type": "code",
   "id": "initial_id",
   "metadata": {
    "collapsed": true,
    "ExecuteTime": {
     "end_time": "2025-10-03T02:50:22.260807Z",
     "start_time": "2025-10-03T02:50:22.231954Z"
    }
   },
   "source": [
    "import pandas as pd\n",
    "from sklearn.linear_model import LogisticRegression\n",
    "from sklearn.metrics import accuracy_score\n",
    "from sklearn.model_selection import train_test_split\n",
    "from sklearn.feature_extraction.text import CountVectorizer\n",
    "\n",
    "dataframe = pd.read_csv(\"Datasets/spam.csv\")\n",
    "dataframe.info()\n",
    "\n",
    "print(dataframe.head())\n",
    "print(dataframe.shape)\n"
   ],
   "outputs": [
    {
     "name": "stdout",
     "output_type": "stream",
     "text": [
      "<class 'pandas.core.frame.DataFrame'>\n",
      "RangeIndex: 5572 entries, 0 to 5571\n",
      "Data columns (total 2 columns):\n",
      " #   Column    Non-Null Count  Dtype \n",
      "---  ------    --------------  ----- \n",
      " 0   Category  5572 non-null   object\n",
      " 1   Message   5572 non-null   object\n",
      "dtypes: object(2)\n",
      "memory usage: 87.2+ KB\n",
      "  Category                                            Message\n",
      "0      ham  Go until jurong point, crazy.. Available only ...\n",
      "1      ham                      Ok lar... Joking wif u oni...\n",
      "2     spam  Free entry in 2 a wkly comp to win FA Cup fina...\n",
      "3      ham  U dun say so early hor... U c already then say...\n",
      "4      ham  Nah I don't think he goes to usf, he lives aro...\n",
      "(5572, 2)\n"
     ]
    }
   ],
   "execution_count": 49
  },
  {
   "metadata": {
    "ExecuteTime": {
     "end_time": "2025-10-03T02:50:22.340726Z",
     "start_time": "2025-10-03T02:50:22.268522Z"
    }
   },
   "cell_type": "code",
   "source": [
    "print(dataframe.columns)\n",
    "\n",
    "\n",
    "X = dataframe['Message'].values\n",
    "Y = dataframe['Category'].values\n",
    "\n",
    "vect = CountVectorizer()\n",
    "x_vect = vect.fit_transform(X)\n",
    "\n",
    "print(x_vect.shape)"
   ],
   "id": "d1fd4c84e9fb96c2",
   "outputs": [
    {
     "name": "stdout",
     "output_type": "stream",
     "text": [
      "Index(['Category', 'Message'], dtype='object')\n",
      "(5572, 8709)\n"
     ]
    }
   ],
   "execution_count": 50
  },
  {
   "metadata": {
    "ExecuteTime": {
     "end_time": "2025-10-03T02:50:22.357739Z",
     "start_time": "2025-10-03T02:50:22.347354Z"
    }
   },
   "cell_type": "code",
   "source": [
    "x_train_val, x_test, y_train_val, y_test = train_test_split(x_vect, Y, test_size=0.15, random_state=42)\n",
    "\n",
    "val_size = 0.15/0.85\n",
    "\n",
    "x_train, x_val, y_train, y_val = train_test_split(x_train_val, y_train_val, test_size=val_size, random_state=42)\n",
    "\n",
    "# Check the sizes\n",
    "print(\"Total data length:\", len(Y))\n",
    "print(\"Train x\", x_train.shape, \"y\", y_train.shape, \"whit \", len(y_train) / len(Y) * 100, \"%\")\n",
    "print(\"Validation x \", x_val.shape, \"y\", y_val.shape, \"whit \", len(y_val) / len(Y) * 100, \"%\")\n",
    "print(\"Test x\", x_test.shape, \"y\", y_test.shape, \"whit \", len(y_test) / len(Y) * 100, \"%\")"
   ],
   "id": "6a5f9bf6a6b47e99",
   "outputs": [
    {
     "name": "stdout",
     "output_type": "stream",
     "text": [
      "Total data length: 5572\n",
      "Train x (3900, 8709) y (3900,) whit  69.99282124910266 %\n",
      "Validation x  (836, 8709) y (836,) whit  15.003589375448673 %\n",
      "Test x (836, 8709) y (836,) whit  15.003589375448673 %\n"
     ]
    }
   ],
   "execution_count": 51
  },
  {
   "metadata": {
    "ExecuteTime": {
     "end_time": "2025-10-03T02:50:46.343368Z",
     "start_time": "2025-10-03T02:50:46.309515Z"
    }
   },
   "cell_type": "code",
   "source": [
    "modelo = LogisticRegression()\n",
    "modelo.fit(x_train, y_train)\n",
    "\n",
    "predictions = modelo.predict(x_test)\n",
    "\n",
    "ave = accuracy_score(y_test, predictions)\n",
    "\n",
    "print(f\"The accuracy is: {ave * 100:.4f}%\")"
   ],
   "id": "24f839acb70fe722",
   "outputs": [
    {
     "name": "stdout",
     "output_type": "stream",
     "text": [
      "The accuracy is: 98.5646%\n"
     ]
    }
   ],
   "execution_count": 53
  }
 ],
 "metadata": {
  "kernelspec": {
   "display_name": "Python 3",
   "language": "python",
   "name": "python3"
  },
  "language_info": {
   "codemirror_mode": {
    "name": "ipython",
    "version": 2
   },
   "file_extension": ".py",
   "mimetype": "text/x-python",
   "name": "python",
   "nbconvert_exporter": "python",
   "pygments_lexer": "ipython2",
   "version": "2.7.6"
  }
 },
 "nbformat": 4,
 "nbformat_minor": 5
}
